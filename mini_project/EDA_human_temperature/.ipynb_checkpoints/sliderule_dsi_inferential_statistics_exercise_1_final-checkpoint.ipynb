{
 "cells": [
  {
   "cell_type": "markdown",
   "metadata": {},
   "source": [
    "# What is the True Normal Human Body Temperature? \n",
    "\n",
    "#### Background\n",
    "\n",
    "The mean normal body temperature was held to be 37$^{\\circ}$C or 98.6$^{\\circ}$F for more than 120 years since it was first conceptualized and reported by Carl Wunderlich in a famous 1868 book. But, is this value statistically correct?"
   ]
  },
  {
   "cell_type": "markdown",
   "metadata": {},
   "source": [
    "<h3>Exercises</h3>\n",
    "\n",
    "<p>In this exercise, you will analyze a dataset of human body temperatures and employ the concepts of hypothesis testing, confidence intervals, and statistical significance.</p>\n",
    "\n",
    "<p>Answer the following questions <b>in this notebook below and submit to your Github account</b>.</p> \n",
    "\n",
    "<ol>\n",
    "<li>  Is the distribution of body temperatures normal? \n",
    "    <ul>\n",
    "    <li> Although this is not a requirement for the Central Limit Theorem to hold (read the introduction on Wikipedia's page about the CLT carefully: https://en.wikipedia.org/wiki/Central_limit_theorem), it gives us some peace of mind that the population may also be normally distributed if we assume that this sample is representative of the population.\n",
    "    <li> Think about the way you're going to check for the normality of the distribution. Graphical methods are usually used first, but there are also other ways: https://en.wikipedia.org/wiki/Normality_test\n",
    "    </ul>\n",
    "<li>  Is the sample size large? Are the observations independent?\n",
    "    <ul>\n",
    "    <li> Remember that this is a condition for the Central Limit Theorem, and hence the statistical tests we are using, to apply.\n",
    "    </ul>\n",
    "<li>  Is the true population mean really 98.6 degrees F?\n",
    "    <ul>\n",
    "    <li> First, try a bootstrap hypothesis test.\n",
    "    <li> Now, let's try frequentist statistical testing. Would you use a one-sample or two-sample test? Why?\n",
    "    <li> In this situation, is it appropriate to use the $t$ or $z$ statistic? \n",
    "    <li> Now try using the other test. How is the result be different? Why?\n",
    "    </ul>\n",
    "<li>  Draw a small sample of size 10 from the data and repeat both frequentist tests. \n",
    "    <ul>\n",
    "    <li> Which one is the correct one to use? \n",
    "    <li> What do you notice? What does this tell you about the difference in application of the $t$ and $z$ statistic?\n",
    "    </ul>\n",
    "<li>  At what temperature should we consider someone's temperature to be \"abnormal\"?\n",
    "    <ul>\n",
    "    <li> As in the previous example, try calculating everything using the boostrap approach, as well as the frequentist approach.\n",
    "    <li> Start by computing the margin of error and confidence interval. When calculating the confidence interval, keep in mind that you should use the appropriate formula for one draw, and not N draws.\n",
    "    </ul>\n",
    "<li>  Is there a significant difference between males and females in normal temperature?\n",
    "    <ul>\n",
    "    <li> What testing approach did you use and why?\n",
    "    <li> Write a story with your conclusion in the context of the original problem.\n",
    "    </ul>\n",
    "</ol>\n",
    "\n",
    "You can include written notes in notebook cells using Markdown: \n",
    "   - In the control panel at the top, choose Cell > Cell Type > Markdown\n",
    "   - Markdown syntax: http://nestacms.com/docs/creating-content/markdown-cheat-sheet\n",
    "\n",
    "#### Resources\n",
    "\n",
    "+ Information and data sources: http://www.amstat.org/publications/jse/datasets/normtemp.txt, http://www.amstat.org/publications/jse/jse_data_archive.htm\n",
    "+ Markdown syntax: http://nestacms.com/docs/creating-content/markdown-cheat-sheet\n",
    "\n",
    "****"
   ]
  },
  {
   "cell_type": "code",
   "execution_count": 2,
   "metadata": {},
   "outputs": [],
   "source": [
    "import pandas as pd\n",
    "\n",
    "df = pd.read_csv('data/human_body_temperature.csv')"
   ]
  },
  {
   "cell_type": "markdown",
   "metadata": {
    "collapsed": true
   },
   "source": [
    " 1. Is the distribution of body temperatures normal? \n",
    " 2. Is the sample size large? Are the observations independent?\n",
    "     - There are 130 observations in the data. "
   ]
  },
  {
   "cell_type": "code",
   "execution_count": 3,
   "metadata": {
    "scrolled": true
   },
   "outputs": [
    {
     "name": "stdout",
     "output_type": "stream",
     "text": [
      "(130, 3)\n"
     ]
    }
   ],
   "source": [
    "print(df.shape)"
   ]
  },
  {
   "cell_type": "markdown",
   "metadata": {},
   "source": [
    "## Ploting the empirical cumulative distribution of the temperature and simulated data from normal distritbution"
   ]
  },
  {
   "cell_type": "code",
   "execution_count": 4,
   "metadata": {},
   "outputs": [],
   "source": [
    "import matplotlib.pyplot as plt\n",
    "import numpy as np\n",
    "import seaborn as sns\n",
    "plt.style.use('ggplot')\n",
    "def ecdf(data):\n",
    "    n = len(data)\n",
    "    x = np.sort(data)\n",
    "    y = np.arange(1, n+1)/n\n",
    "    return x,y"
   ]
  },
  {
   "cell_type": "code",
   "execution_count": 5,
   "metadata": {},
   "outputs": [],
   "source": [
    "smean = np.mean(df.temperature)\n",
    "sstd = np.std(df.temperature)\n",
    "simdata = np.random.normal(smean, sstd, size=10000)"
   ]
  },
  {
   "cell_type": "code",
   "execution_count": 6,
   "metadata": {},
   "outputs": [
    {
     "data": {
      "image/png": "[encoded data removed]",
      "text/plain": [
       "<Figure size 432x288 with 1 Axes>"
      ]
     },
     "metadata": {},
     "output_type": "display_data"
    }
   ],
   "source": [
    "xsim, ysim = ecdf(simdata)\n",
    "x, y = ecdf(df.temperature)\n",
    "plt.plot(x, y, marker='.', linestyle='none', color='blue')\n",
    "plt.plot(xsim, ysim, marker='.', linestyle='none', color='red')\n",
    "plt.xlabel('temperature')\n",
    "plt.ylabel('ECDF')\n",
    "\n",
    "plt.legend(('temperature data', 'normal'));"
   ]
  },
  {
   "cell_type": "code",
   "execution_count": 7,
   "metadata": {
    "scrolled": true
   },
   "outputs": [
    {
     "data": {
      "image/png": "[encoded data removed]",
      "text/plain": [
       "<Figure size 432x288 with 1 Axes>"
      ]
     },
     "metadata": {},
     "output_type": "display_data"
    }
   ],
   "source": [
    "plt.hist(df.temperature, density=True, bins=12, histtype='step');"
   ]
  },
  {
   "cell_type": "markdown",
   "metadata": {},
   "source": [
    "Three normality statistical tests:\n",
    "1. Shapiro \n",
    "2. $\\chi^2$ test\n",
    "3. Anderson or KStest\n",
    "\n",
    "\n",
    "- Skew is a quantification of how much a distribution is pushed left or right, a measure of asymmetry in the distribution.\n",
    "- Kurtosis quantifies how much of the distribution is in the tail. It is a simple and commonly used statistical test for normality."
   ]
  },
  {
   "cell_type": "code",
   "execution_count": 8,
   "metadata": {},
   "outputs": [
    {
     "name": "stdout",
     "output_type": "stream",
     "text": [
      "Statistics=0.987, p=0.233\n"
     ]
    }
   ],
   "source": [
    "from scipy.stats import shapiro,normaltest, anderson\n",
    "stat, p = shapiro(df.temperature)\n",
    "print('Statistics=%.3f, p=%.3f' % (stat, p))"
   ]
  },
  {
   "cell_type": "code",
   "execution_count": 9,
   "metadata": {},
   "outputs": [
    {
     "name": "stdout",
     "output_type": "stream",
     "text": [
      "Statistics=2.704, p=0.259\n"
     ]
    }
   ],
   "source": [
    "stat, p = normaltest(df.temperature)\n",
    "print('Statistics=%.3f, p=%.3f' % (stat, p))"
   ]
  },
  {
   "cell_type": "code",
   "execution_count": 10,
   "metadata": {},
   "outputs": [
    {
     "name": "stdout",
     "output_type": "stream",
     "text": [
      "Statistic: 0.520\n",
      "15.000: 0.560, data looks normal (fail to reject H0)\n",
      "10.000: 0.637, data looks normal (fail to reject H0)\n",
      "5.000: 0.765, data looks normal (fail to reject H0)\n",
      "2.500: 0.892, data looks normal (fail to reject H0)\n",
      "1.000: 1.061, data looks normal (fail to reject H0)\n"
     ]
    }
   ],
   "source": [
    "result = anderson(df.temperature)\n",
    "print('Statistic: %.3f' % result.statistic)\n",
    "p = 0\n",
    "for i in range(len(result.critical_values)):\n",
    "    sl, cv = result.significance_level[i], result.critical_values[i]\n",
    "    if result.statistic < result.critical_values[i]:\n",
    "        print('%.3f: %.3f, data looks normal (fail to reject H0)' % (sl, cv))\n",
    "    else:\n",
    "        print('%.3f: %.3f, data does not look normal (reject H0)' % (sl, cv))"
   ]
  },
  {
   "cell_type": "markdown",
   "metadata": {},
   "source": [
    "All the statitical tests and plot show that the temperature data is normally distributed. The sample size is 130, which is larger than 30, we could apply central limit theory here."
   ]
  },
  {
   "cell_type": "markdown",
   "metadata": {},
   "source": [
    "<li>  Is the true population mean really 98.6 degrees F?\n",
    "    <ul>\n",
    "    <li> First, try a bootstrap hypothesis test.\n",
    "    <li> Now, let's try frequentist statistical testing. Would you use a one-sample or two-sample test? Why?\n",
    "    <li> In this situation, is it appropriate to use the $t$ or $z$ statistic? \n",
    "    <li> Now try using the other test. How is the result be different? Why?\n",
    "    </ul>\n",
    "\n"
   ]
  },
  {
   "cell_type": "code",
   "execution_count": 15,
   "metadata": {},
   "outputs": [
    {
     "name": "stdout",
     "output_type": "stream",
     "text": [
      "The mean temperature of the sample is 98.249\n"
     ]
    }
   ],
   "source": [
    "print('The mean temperature of the sample is {:.3f}'.format(smean))"
   ]
  },
  {
   "cell_type": "markdown",
   "metadata": {},
   "source": [
    "## bootstrap hypothesis test"
   ]
  },
  {
   "cell_type": "code",
   "execution_count": 16,
   "metadata": {},
   "outputs": [],
   "source": [
    "def bs_replicates(data, func, size=1):\n",
    "    bs_rep = np.empty(size)\n",
    "    for i in range(size):\n",
    "        bs_rep[i] = func(np.random.choice(data, size=len(data)))\n",
    "    return bs_rep"
   ]
  },
  {
   "cell_type": "code",
   "execution_count": 17,
   "metadata": {},
   "outputs": [
    {
     "name": "stdout",
     "output_type": "stream",
     "text": [
      "The p-value with bootstraping samples is 0.000\n"
     ]
    }
   ],
   "source": [
    "mu = 98.6\n",
    "np.random.seed(42)\n",
    "smean = np.mean(df.temperature)\n",
    "sample_shift = df.temperature - smean + mu\n",
    "bs_mean = bs_replicates(sample_shift, np.mean, 10000)\n",
    "p = np.sum(bs_mean<=smean)/len(bs_mean)\n",
    "print('The p-value with bootstraping samples is {:.3f}'.format(p))"
   ]
  },
  {
   "cell_type": "markdown",
   "metadata": {},
   "source": [
    "## frequentist statistical testing\n",
    "I am using one-sample z-test here. As the sample size is 130, which is larger than 30, we can apply Central Limit Theorem. So the sample variance could be a good estimate of population variance. It turns out that the one-sample t-test and z-test yield the same results. The reason is that with large sample size and CLT, sample variance is a pretty accurate estimator of population variance. "
   ]
  },
  {
   "cell_type": "code",
   "execution_count": 18,
   "metadata": {},
   "outputs": [
    {
     "name": "stdout",
     "output_type": "stream",
     "text": [
      "The p-value with one-sample Z-test is 0.000\n"
     ]
    }
   ],
   "source": [
    "import scipy.stats as ss\n",
    "smean = np.mean(df.temperature)\n",
    "n = len(df.temperature)\n",
    "pvalue = 2 * ss.norm.cdf((smean - mu)/(sstd/np.sqrt(n)))\n",
    "print('The p-value with one-sample Z-test is {:.3f}'.format(pvalue))"
   ]
  },
  {
   "cell_type": "code",
   "execution_count": 19,
   "metadata": {},
   "outputs": [
    {
     "name": "stdout",
     "output_type": "stream",
     "text": [
      "The p-value with one-sample t-test is 0.000\n"
     ]
    }
   ],
   "source": [
    "pvalue = 2 * ss.t.cdf((smean - mu)/(sstd/np.sqrt(n)), n-1)\n",
    "print('The p-value with one-sample t-test is {:.3f}'.format(pvalue))"
   ]
  },
  {
   "cell_type": "markdown",
   "metadata": {},
   "source": [
    "<li>  Draw a small sample of size 10 from the data and repeat both frequentist tests. \n",
    "    <ul>\n",
    "    <li> Which one is the correct one to use? \n",
    "    <li> What do you notice? What does this tell you about the difference in application of the $t$ and $z$ statistic?\n",
    "    </ul>\n",
    "\n",
    "When the sample size is 10, we do not have CLT work anymore. So the t-test is more approriate here."
   ]
  },
  {
   "cell_type": "code",
   "execution_count": 21,
   "metadata": {},
   "outputs": [
    {
     "name": "stdout",
     "output_type": "stream",
     "text": [
      "The sample mean is 98.280 The true mean is 98.600\n",
      "The p-value with one-sample Z-test is 0.213\n",
      "The p-value with one-sample t-test is 0.245\n"
     ]
    }
   ],
   "source": [
    "nsample = 10\n",
    "sampletemp = df.temperature.sample(nsample)\n",
    "smean = np.mean(sampletemp)\n",
    "sstd = np.std(sampletemp)\n",
    "print('The sample mean is {:.3f}'.format(smean), 'The true mean is {:.3f}'.format(mu))\n",
    "if smean < mu:\n",
    "    pvalue = 2 * ss.norm.cdf((smean - mu)/(sstd/np.sqrt(nsample)))\n",
    "else:\n",
    "    pvalue = 2 * (1 - ss.norm.cdf((smean - mu)/(sstd/np.sqrt(nsample))))\n",
    "print('The p-value with one-sample Z-test is {:.3f}'.format(pvalue))\n",
    "\n",
    "if smean < mu:\n",
    "    pvalue = 2 * ss.t.cdf((smean - mu)/(sstd/np.sqrt(nsample)), nsample-1)\n",
    "else:\n",
    "    pvalue = 2 * (1 - ss.t.cdf((smean - mu)/(sstd/np.sqrt(nsample))), nsample-1)\n",
    "print('The p-value with one-sample t-test is {:.3f}'.format(pvalue))"
   ]
  },
  {
   "cell_type": "markdown",
   "metadata": {},
   "source": [
    "<li>  At what temperature should we consider someone's temperature to be \"abnormal\"?\n",
    "    <ul>\n",
    "    <li> As in the previous example, try calculating everything using the boostrap approach, as well as the frequentist approach.\n",
    "    <li> Start by computing the margin of error and confidence interval. When calculating the confidence interval, keep in mind that you should use the appropriate formula for one draw, and not N draws.\n",
    "    </ul>\n",
    "\n",
    "When the temperature is not in the following range, we consider it as \"abnormal\"."
   ]
  },
  {
   "cell_type": "code",
   "execution_count": 23,
   "metadata": {},
   "outputs": [
    {
     "name": "stdout",
     "output_type": "stream",
     "text": [
      "The 95% confidence interval with bootstrap is [98.124, 98.372]\n",
      "The margin of error is 0.124\n"
     ]
    }
   ],
   "source": [
    "bs_mean = bs_replicates(df.temperature, np.mean, size=10000)\n",
    "confidence_int = np.percentile(bs_mean, [2.5, 97.5])\n",
    "margin_error = (confidence_int[1] - confidence_int[0])/2\n",
    "print('The 95% confidence interval with bootstrap is [{:.3f}, {:.3f}]'.format(\n",
    "    confidence_int[0],confidence_int[1]))\n",
    "print('The margin of error is {:.3f}'.format(margin_error))"
   ]
  },
  {
   "cell_type": "code",
   "execution_count": 24,
   "metadata": {},
   "outputs": [
    {
     "name": "stdout",
     "output_type": "stream",
     "text": [
      "The 95% confidence interval with frequentist test is [98.124, 98.375]\n",
      "The margin of error is 0.126\n"
     ]
    }
   ],
   "source": [
    "smean = np.mean(df.temperature)\n",
    "sstd = np.std(df.temperature)\n",
    "n = len(df.temperature)\n",
    "margin_error = 1.96*sstd/np.sqrt(n)\n",
    "confidence_int = [smean - margin_error, smean + margin_error]\n",
    "print('The 95% confidence interval with frequentist test is [{:.3f}, {:.3f}]'.format(\n",
    "    confidence_int[0],confidence_int[1]))\n",
    "print('The margin of error is {:.3f}'.format(margin_error))"
   ]
  },
  {
   "cell_type": "markdown",
   "metadata": {},
   "source": [
    "<li>  Is there a significant difference between males and females in normal temperature?\n",
    "    <ul>\n",
    "    <li> What testing approach did you use and why?\n",
    "    <li> Write a story with your conclusion in the context of the original problem.\n",
    "    </ul>"
   ]
  },
  {
   "cell_type": "code",
   "execution_count": 25,
   "metadata": {},
   "outputs": [],
   "source": [
    "fem_temp = df.loc[df.gender=='F', 'temperature']\n",
    "mal_temp = df.loc[df.gender=='M', 'temperature']"
   ]
  },
  {
   "cell_type": "markdown",
   "metadata": {},
   "source": [
    "## Permutation Test"
   ]
  },
  {
   "cell_type": "code",
   "execution_count": 29,
   "metadata": {},
   "outputs": [],
   "source": [
    "def perm_replicates(d1, d2, func, size=1):\n",
    "    d = np.concatenate((d1, d2))\n",
    "    rep = np.empty(size)\n",
    "    for i in range(size):\n",
    "        data = np.random.permutation(d)\n",
    "        d1perm = data[:len(d1)]\n",
    "        d2perm = data[len(d1):]\n",
    "        rep[i] = func(d1perm, d2perm)\n",
    "    return rep\n",
    "\n",
    "def mean_diff(d1, d2):\n",
    "    return np.mean(d1) - np.mean(d2)"
   ]
  },
  {
   "cell_type": "code",
   "execution_count": 31,
   "metadata": {},
   "outputs": [
    {
     "data": {
      "text/plain": [
       "0.0129"
      ]
     },
     "execution_count": 31,
     "metadata": {},
     "output_type": "execute_result"
    }
   ],
   "source": [
    "perm_mean = perm_replicates(fem_temp, mal_temp, mean_diff, size=10000)\n",
    "obs = mean_diff(fem_temp, mal_temp)\n",
    "np.sum(perm_mean>=obs)/len(perm_mean)"
   ]
  },
  {
   "cell_type": "markdown",
   "metadata": {},
   "source": [
    "## Bootstraping Sample"
   ]
  },
  {
   "cell_type": "code",
   "execution_count": 28,
   "metadata": {
    "scrolled": true
   },
   "outputs": [
    {
     "data": {
      "text/plain": [
       "0.0122"
      ]
     },
     "execution_count": 28,
     "metadata": {},
     "output_type": "execute_result"
    }
   ],
   "source": [
    "smean = np.mean(df.temperature)\n",
    "fem_shift = fem_temp - np.mean(fem_temp) + smean\n",
    "mal_shift = mal_temp - np.mean(mal_temp) + smean\n",
    "fem_rep = bs_replicates(fem_shift, np.mean, size=10000)\n",
    "mal_rep = bs_replicates(mal_shift, np.mean, size=10000)\n",
    "mean_rep = fem_rep - mal_rep\n",
    "np.sum(mean_rep>=obs)/10000"
   ]
  },
  {
   "cell_type": "markdown",
   "metadata": {},
   "source": [
    "## Two-sample T-test"
   ]
  },
  {
   "cell_type": "code",
   "execution_count": 114,
   "metadata": {},
   "outputs": [
    {
     "data": {
      "text/plain": [
       "Ttest_indResult(statistic=2.2854345381656103, pvalue=0.02393188312239561)"
      ]
     },
     "execution_count": 114,
     "metadata": {},
     "output_type": "execute_result"
    }
   ],
   "source": [
    "from scipy.stats import ttest_ind\n",
    "ttest_ind(fem_temp, mal_temp)"
   ]
  },
  {
   "cell_type": "markdown",
   "metadata": {},
   "source": [
    "## Conclusions\n",
    "Overall, from the current dataset with 130 samples, we conclude that \n",
    "- The distribution of temperature is approximately nomal, confimed by frequentist test, including KStest, $\\chi^2$ test, shipiro test, as well as ECDF with simulated normal data.\n",
    "- We tested the null hypothesis that the true mean of the temperature data is 98.6. However, we have enough evidence to reject the null hypothesis at 5% siginificant level, using frequentist test and bootstraping samples.\n",
    "- With large samples ( $> 30$), central limit theory applies and we could carry one-sample z-test for null hypothesis that $\\mu = 98.6$; when sample size is small, we use t-test instead.\n",
    "- I also compute confidence interval for the temperature mean, using both bootstraping sample and hypothesis. The results from both methods are in alignment with each other. The confidence interval shows that the true mean falls in the interval for 95% of the random sample. Again, since the confidence interval does not include 98.6, we have strong evidence to show the true mean is not 98.6, with 95% confidence.\n",
    "- To test if the mean temperature is the same for male and female, I am testing the hypothesis that $\\mu_{female} = \\mu_{male}$. I used three methods here\n",
    "    - Two sample t-test for independent samples\n",
    "    - Permutation test when assuming the null hypothesis is true\n",
    "    - Bootstrapping sample\n",
    "    \n",
    "  all three methods confirmed that we have strong evidence to reject the null hypothesis at 5% significant level."
   ]
  }
 ],
 "metadata": {
  "kernelspec": {
   "display_name": "Python 3",
   "language": "python",
   "name": "python3"
  },
  "language_info": {
   "codemirror_mode": {
    "name": "ipython",
    "version": 3
   },
   "file_extension": ".py",
   "mimetype": "text/x-python",
   "name": "python",
   "nbconvert_exporter": "python",
   "pygments_lexer": "ipython3",
   "version": "3.6.5"
  }
 },
 "nbformat": 4,
 "nbformat_minor": 1
}
